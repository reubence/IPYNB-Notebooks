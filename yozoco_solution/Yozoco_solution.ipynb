{
 "cells": [
  {
   "cell_type": "markdown",
   "metadata": {
    "colab_type": "text",
    "id": "P5P0m3qQhlep"
   },
   "source": [
    "**I have used regex to identify the names, organisations and addresses from the given data.**"
   ]
  },
  {
   "cell_type": "code",
   "execution_count": 0,
   "metadata": {
    "colab": {},
    "colab_type": "code",
    "id": "CFC3wVOPcz4-"
   },
   "outputs": [],
   "source": [
    "import pandas as pd \n",
    "import numpy as np\n",
    "import re\n",
    "import spacy\n",
    "import en_core_web_sm "
   ]
  },
  {
   "cell_type": "code",
   "execution_count": 0,
   "metadata": {
    "colab": {},
    "colab_type": "code",
    "id": "D87dcWBtgk71"
   },
   "outputs": [],
   "source": [
    "df=pd.read_csv('/content/yozoco_data.csv', encoding= 'unicode_escape')"
   ]
  },
  {
   "cell_type": "code",
   "execution_count": 56,
   "metadata": {
    "colab": {
     "base_uri": "https://localhost:8080/",
     "height": 467
    },
    "colab_type": "code",
    "id": "vO2TH9Fzcz5D",
    "outputId": "7feec46b-3791-4d6e-ba00-3dee4985469c"
   },
   "outputs": [
    {
     "data": {
      "text/html": [
       "<div>\n",
       "<style scoped>\n",
       "    .dataframe tbody tr th:only-of-type {\n",
       "        vertical-align: middle;\n",
       "    }\n",
       "\n",
       "    .dataframe tbody tr th {\n",
       "        vertical-align: top;\n",
       "    }\n",
       "\n",
       "    .dataframe thead th {\n",
       "        text-align: right;\n",
       "    }\n",
       "</style>\n",
       "<table border=\"1\" class=\"dataframe\">\n",
       "  <thead>\n",
       "    <tr style=\"text-align: right;\">\n",
       "      <th></th>\n",
       "      <th>p_no__001</th>\n",
       "      <th>p_no__002</th>\n",
       "      <th>p_no__003</th>\n",
       "      <th>p_no__004</th>\n",
       "      <th>p_no__005</th>\n",
       "      <th>p_no__006</th>\n",
       "      <th>p_no__007</th>\n",
       "      <th>p_no__008</th>\n",
       "      <th>email_address__001</th>\n",
       "      <th>email_address__002</th>\n",
       "      <th>website__-</th>\n",
       "      <th>address</th>\n",
       "      <th>organisation</th>\n",
       "      <th>person_name</th>\n",
       "      <th>text</th>\n",
       "    </tr>\n",
       "  </thead>\n",
       "  <tbody>\n",
       "    <tr>\n",
       "      <th>0</th>\n",
       "      <td>9.822342e+09</td>\n",
       "      <td>9.970177e+09</td>\n",
       "      <td>2.471024e+06</td>\n",
       "      <td>8.668489e+09</td>\n",
       "      <td>NaN</td>\n",
       "      <td>NaN</td>\n",
       "      <td>NaN</td>\n",
       "      <td>NaN</td>\n",
       "      <td>NaN</td>\n",
       "      <td>NaN</td>\n",
       "      <td>NaN</td>\n",
       "      <td>Best Quality Dry Fruits,Frozen Dry Fruits, Att...</td>\n",
       "      <td>Vardhaman Kochar Sadhana Kochar 9822342076</td>\n",
       "      <td>NaN</td>\n",
       "      <td>Vardhaman Kochar\\nSadhana Kochar\\n9822342076\\...</td>\n",
       "    </tr>\n",
       "    <tr>\n",
       "      <th>1</th>\n",
       "      <td>9.370237e+09</td>\n",
       "      <td>7.972465e+09</td>\n",
       "      <td>9.423777e+09</td>\n",
       "      <td>9.373558e+09</td>\n",
       "      <td>2.532460e+09</td>\n",
       "      <td>2454688.0</td>\n",
       "      <td>9.623769e+09</td>\n",
       "      <td>7.620558e+09</td>\n",
       "      <td>balajicanvassingcompany@gmail.com</td>\n",
       "      <td>NaN</td>\n",
       "      <td>NaN</td>\n",
       "      <td>Canvassing Agents in : Rice, Paddy &amp; Foodgrain...</td>\n",
       "      <td>Rice, Paddy &amp; Foodgrains</td>\n",
       "      <td>I Tarachand 9370237313 BALAJI 7972464762 CANVA...</td>\n",
       "      <td>I Tarachand\\n9370237313\\nBALAJI\\n7972464762\\n...</td>\n",
       "    </tr>\n",
       "    <tr>\n",
       "      <th>2</th>\n",
       "      <td>9.186576e+09</td>\n",
       "      <td>NaN</td>\n",
       "      <td>NaN</td>\n",
       "      <td>NaN</td>\n",
       "      <td>NaN</td>\n",
       "      <td>NaN</td>\n",
       "      <td>NaN</td>\n",
       "      <td>NaN</td>\n",
       "      <td>manan.mathur@questoffices.com</td>\n",
       "      <td>NaN</td>\n",
       "      <td>NaN</td>\n",
       "      <td>5th Floor, Technopolis Knowledge Park,Mahakali...</td>\n",
       "      <td>Quest Coworks Pvt. Ltd. 5th Floor</td>\n",
       "      <td>Manan Mathur</td>\n",
       "      <td>Manan Mathur\\nRelationship Manager - Sales\\n+...</td>\n",
       "    </tr>\n",
       "    <tr>\n",
       "      <th>3</th>\n",
       "      <td>9.188889e+09</td>\n",
       "      <td>5.210001e+09</td>\n",
       "      <td>NaN</td>\n",
       "      <td>NaN</td>\n",
       "      <td>NaN</td>\n",
       "      <td>NaN</td>\n",
       "      <td>NaN</td>\n",
       "      <td>NaN</td>\n",
       "      <td>shivament.pune@gmail.com</td>\n",
       "      <td>property.junction27@gmail.com</td>\n",
       "      <td>NaN</td>\n",
       "      <td>Maha, Rera No.: A52100008609</td>\n",
       "      <td>Rera</td>\n",
       "      <td>918888887791 shivament.pune@gmail.com property...</td>\n",
       "      <td>Help Ever Hurt Never....\\nRahul Gholap\\nManag...</td>\n",
       "    </tr>\n",
       "    <tr>\n",
       "      <th>4</th>\n",
       "      <td>9.425326e+08</td>\n",
       "      <td>9.179662e+08</td>\n",
       "      <td>NaN</td>\n",
       "      <td>NaN</td>\n",
       "      <td>NaN</td>\n",
       "      <td>NaN</td>\n",
       "      <td>NaN</td>\n",
       "      <td>NaN</td>\n",
       "      <td>tarungarg55@in.com</td>\n",
       "      <td>NaN</td>\n",
       "      <td>NaN</td>\n",
       "      <td>NAYA BAZAR, BAGHANA,Cell : 094253 25555, 09179...</td>\n",
       "      <td>NaN</td>\n",
       "      <td>AGENT</td>\n",
       "      <td>?? ?\\n?????\\n1.&amp; SONS\\nCANVASING AGENT\\nNAYA ...</td>\n",
       "    </tr>\n",
       "  </tbody>\n",
       "</table>\n",
       "</div>"
      ],
      "text/plain": [
       "      p_no__001  ...                                               text\n",
       "0  9.822342e+09  ...   Vardhaman Kochar\\nSadhana Kochar\\n9822342076\\...\n",
       "1  9.370237e+09  ...   I Tarachand\\n9370237313\\nBALAJI\\n7972464762\\n...\n",
       "2  9.186576e+09  ...   Manan Mathur\\nRelationship Manager - Sales\\n+...\n",
       "3  9.188889e+09  ...   Help Ever Hurt Never....\\nRahul Gholap\\nManag...\n",
       "4  9.425326e+08  ...   ?? ?\\n?????\\n1.& SONS\\nCANVASING AGENT\\nNAYA ...\n",
       "\n",
       "[5 rows x 15 columns]"
      ]
     },
     "execution_count": 56,
     "metadata": {
      "tags": []
     },
     "output_type": "execute_result"
    }
   ],
   "source": [
    "df.head()"
   ]
  },
  {
   "cell_type": "code",
   "execution_count": 57,
   "metadata": {
    "colab": {
     "base_uri": "https://localhost:8080/",
     "height": 286
    },
    "colab_type": "code",
    "id": "D9_Zh0bseq-U",
    "outputId": "f3cecd6b-26bd-473e-cfe6-337e36f54bc8"
   },
   "outputs": [
    {
     "data": {
      "text/plain": [
       "p_no__001             float64\n",
       "p_no__002             float64\n",
       "p_no__003             float64\n",
       "p_no__004             float64\n",
       "p_no__005             float64\n",
       "p_no__006             float64\n",
       "p_no__007             float64\n",
       "p_no__008             float64\n",
       "email_address__001     object\n",
       "email_address__002     object\n",
       "website__-             object\n",
       "address                object\n",
       "organisation           object\n",
       "person_name            object\n",
       "text                   object\n",
       "dtype: object"
      ]
     },
     "execution_count": 57,
     "metadata": {
      "tags": []
     },
     "output_type": "execute_result"
    }
   ],
   "source": [
    "df.dtypes"
   ]
  },
  {
   "cell_type": "code",
   "execution_count": 0,
   "metadata": {
    "colab": {},
    "colab_type": "code",
    "id": "nNP80JIXcz5I"
   },
   "outputs": [],
   "source": [
    "#df.organisation.head(5)"
   ]
  },
  {
   "cell_type": "code",
   "execution_count": 59,
   "metadata": {
    "colab": {
     "base_uri": "https://localhost:8080/",
     "height": 118
    },
    "colab_type": "code",
    "id": "2TFMZ9lceiw4",
    "outputId": "e90df399-58d0-44ce-8167-9601f73c7ab8"
   },
   "outputs": [
    {
     "data": {
      "text/plain": [
       "0    Best Quality Dry Fruits,Frozen Dry Fruits, Att...\n",
       "1    Canvassing Agents in : Rice, Paddy & Foodgrain...\n",
       "2    5th Floor, Technopolis Knowledge Park,Mahakali...\n",
       "3                         Maha, Rera No.: A52100008609\n",
       "4    NAYA BAZAR, BAGHANA,Cell : 094253 25555, 09179...\n",
       "Name: address, dtype: object"
      ]
     },
     "execution_count": 59,
     "metadata": {
      "tags": []
     },
     "output_type": "execute_result"
    }
   ],
   "source": [
    "df.address.head(5)"
   ]
  },
  {
   "cell_type": "code",
   "execution_count": 60,
   "metadata": {
    "colab": {
     "base_uri": "https://localhost:8080/",
     "height": 286
    },
    "colab_type": "code",
    "id": "LAipw_CAcz5Q",
    "outputId": "962f2241-91f7-4478-c21b-6cf341db3f16"
   },
   "outputs": [
    {
     "data": {
      "text/plain": [
       "p_no__001              1\n",
       "p_no__002             14\n",
       "p_no__003             31\n",
       "p_no__004             37\n",
       "p_no__005             44\n",
       "p_no__006             47\n",
       "p_no__007             49\n",
       "p_no__008             50\n",
       "email_address__001    25\n",
       "email_address__002    50\n",
       "website__-            45\n",
       "address                4\n",
       "organisation          18\n",
       "person_name           11\n",
       "text                   0\n",
       "dtype: int64"
      ]
     },
     "execution_count": 60,
     "metadata": {
      "tags": []
     },
     "output_type": "execute_result"
    }
   ],
   "source": [
    "df.isna().sum()"
   ]
  },
  {
   "cell_type": "code",
   "execution_count": 0,
   "metadata": {
    "colab": {},
    "colab_type": "code",
    "id": "BpFFMz_5cz5U"
   },
   "outputs": [],
   "source": [
    "df1=df.dropna(subset=['address','person_name'])"
   ]
  },
  {
   "cell_type": "code",
   "execution_count": 62,
   "metadata": {
    "colab": {
     "base_uri": "https://localhost:8080/",
     "height": 286
    },
    "colab_type": "code",
    "id": "jWpTP14pcz5Y",
    "outputId": "b185339c-74f5-43b5-d16a-148688a1747d"
   },
   "outputs": [
    {
     "data": {
      "text/plain": [
       "p_no__001              0\n",
       "p_no__002              8\n",
       "p_no__003             20\n",
       "p_no__004             25\n",
       "p_no__005             31\n",
       "p_no__006             33\n",
       "p_no__007             35\n",
       "p_no__008             36\n",
       "email_address__001    20\n",
       "email_address__002    36\n",
       "website__-            36\n",
       "address                0\n",
       "organisation          13\n",
       "person_name            0\n",
       "text                   0\n",
       "dtype: int64"
      ]
     },
     "execution_count": 62,
     "metadata": {
      "tags": []
     },
     "output_type": "execute_result"
    }
   ],
   "source": [
    "df1.isna().sum()"
   ]
  },
  {
   "cell_type": "code",
   "execution_count": 0,
   "metadata": {
    "colab": {},
    "colab_type": "code",
    "id": "58SkDSWccz5d"
   },
   "outputs": [],
   "source": [
    "def recognise_address(sent):\n",
    "    txt = re.sub(\"'\",\"\",sent)\n",
    "    txt = re.sub(\"[^#a-zA-Z0-9]\",\" \",txt)\n",
    "    reg_expre=r\"([A-Za-z0-9]\\w+ ((?! \\d+).)*(Mumbai|Ahmedabad|Nashik|Pune|Ahmednagar|Hyderabad|Karnataka|India|KAKINADA|Udaipur)(,d{5}|\\b))\"\n",
    "    add = re.findall(reg_expre,txt,re.IGNORECASE)\n",
    "    return add\n",
    "\n",
    "def get_names(sentence):\n",
    "    lang = en_core_web_sm.load()\n",
    "    corp = lang(sentence) \n",
    "    for ent in corp.ents: \n",
    "        return(print(ent.text,  ent.label_)) \n"
   ]
  },
  {
   "cell_type": "code",
   "execution_count": 66,
   "metadata": {
    "colab": {
     "base_uri": "https://localhost:8080/",
     "height": 1000
    },
    "colab_type": "code",
    "id": "P0EqHc1Jcz5h",
    "outputId": "7fa22301-d04f-41f8-ae6a-8139bb5f0d12"
   },
   "outputs": [
    {
     "name": "stdout",
     "output_type": "stream",
     "text": [
      "Manan Mathur PERSON\n",
      "918888887791 CARDINAL\n",
      "Manan Mathur PERSON\n",
      "Wada Atta PERSON\n",
      "Suhas Saraf C.E.O. PERSON\n",
      "A.P. ORG\n",
      "Raviwar Karanja PERSON\n",
      "Jai Mata Di II Mob PERSON\n",
      "918888887791 CARDINAL\n",
      "A.P. ORG\n",
      "Bhavani Peth PERSON\n",
      "A.P. ORG\n",
      "Bandavane Nagar PERSON\n",
      "A.P. ORG\n",
      "ASHOK AGENCY Chillies ORG\n",
      "Manish Katariya S.S.D. ORG\n",
      "Ashok Agrowal 099499 PERSON\n",
      "Thomas Cook PERSON\n",
      "Rajendra Kela PERSON\n",
      "Pankaj B. Patil PERSON\n",
      "A.P. ORG\n",
      "B. Com PERSON\n",
      "A.P. ORG\n"
     ]
    },
    {
     "data": {
      "text/plain": [
       "1     None\n",
       "2     None\n",
       "3     None\n",
       "4     None\n",
       "5     None\n",
       "6     None\n",
       "7     None\n",
       "8     None\n",
       "9     None\n",
       "10    None\n",
       "12    None\n",
       "13    None\n",
       "15    None\n",
       "16    None\n",
       "17    None\n",
       "19    None\n",
       "20    None\n",
       "21    None\n",
       "22    None\n",
       "24    None\n",
       "25    None\n",
       "26    None\n",
       "27    None\n",
       "30    None\n",
       "32    None\n",
       "33    None\n",
       "34    None\n",
       "35    None\n",
       "37    None\n",
       "38    None\n",
       "39    None\n",
       "40    None\n",
       "41    None\n",
       "44    None\n",
       "46    None\n",
       "48    None\n",
       "49    None\n",
       "51    None\n",
       "52    None\n",
       "53    None\n",
       "Name: person_name, dtype: object"
      ]
     },
     "execution_count": 66,
     "metadata": {
      "tags": []
     },
     "output_type": "execute_result"
    }
   ],
   "source": [
    "df1.person_name.apply(get_names) "
   ]
  },
  {
   "cell_type": "code",
   "execution_count": 65,
   "metadata": {
    "colab": {
     "base_uri": "https://localhost:8080/",
     "height": 706
    },
    "colab_type": "code",
    "id": "NPOQPF0AhLqb",
    "outputId": "e80a8ce6-8e95-49a6-a4cd-04fe50675f40"
   },
   "outputs": [
    {
     "data": {
      "text/plain": [
       "1     [(Canvassing Agents in   Rice  Paddy   Foodgra...\n",
       "2     [(5th Floor  Technopolis Knowledge Park Mahaka...\n",
       "3                                                    []\n",
       "4                                                    []\n",
       "5     [(5th Floor  Technopolis Knowledge Park Mahaka...\n",
       "6     [(Swami Samarth Tempal Datta Mandir Road Nashi...\n",
       "7                                                    []\n",
       "8                                                    []\n",
       "9     [(21 2B  M I D C  Satpur Nashik,  , Nashik, ),...\n",
       "10    [(449 13  Kishan Gunj  Hyderabad,  , Hyderabad...\n",
       "12    [(Lavate Park  Raviwar Karanja  Nashik,  , Nas...\n",
       "13              [(1I  Vashi  Navi Mumbai,  , Mumbai, )]\n",
       "15    [(Jai Gurudev Si MumbadEvi DA RI Turbhe Navi M...\n",
       "16                                                   []\n",
       "17                                                   []\n",
       "19                                                   []\n",
       "20                                                   []\n",
       "21                                                   []\n",
       "22    [(Andheri East Mumbai,  , Mumbai, ), (20  Maro...\n",
       "24    [(449 13  Kishan Gunj  Hyderabad,  , Hyderabad...\n",
       "25    [(11  Bhadravati Residency  Bandavane Nagar  K...\n",
       "26                                                   []\n",
       "27                                                   []\n",
       "30    [(Sahyadri Business Park O Mico Circle Nashik ...\n",
       "32                                                   []\n",
       "33        [(93  Gultekdi Market yard  Pune,  , Pune, )]\n",
       "34    [(Maize23 3  Sindhi Commercial Market  Chokha ...\n",
       "35    [(35  Ganjamvari Street  Near Dena Bank  KAKIN...\n",
       "37    [(KHAMAN WHOLESALE MERCHANT Bagur Road Karnata...\n",
       "38    [(Prakash Apt  Mahatma Nagar  Near ABB Circle ...\n",
       "39    [(21  M I D C  Malegaon  Sinnar  Nashik,  , Na...\n",
       "40                 [(WHEAT Nashik Nashik,  , Nashik, )]\n",
       "41    [(No 1  Rajan Complex  Datta Mandir Stop Nashi...\n",
       "44                                                   []\n",
       "46                                                   []\n",
       "48                     [(Maharashtra India, , India, )]\n",
       "49    [(449 13  Kishan Gunj  Hyderabad,  , Hyderabad...\n",
       "51    [(Ankur Apartments ITI Road Aundh Sanewadi  IT...\n",
       "52    [(16  Flat No  D1 Mutha Apartments Ganjamvari ...\n",
       "53                         [(Opp Udaipur, , Udaipur, )]\n",
       "Name: address, dtype: object"
      ]
     },
     "execution_count": 65,
     "metadata": {
      "tags": []
     },
     "output_type": "execute_result"
    }
   ],
   "source": [
    "df1.address.apply(recognise_address) "
   ]
  },
  {
   "cell_type": "code",
   "execution_count": 0,
   "metadata": {
    "colab": {},
    "colab_type": "code",
    "id": "BK5lPkQ1gzvQ"
   },
   "outputs": [],
   "source": []
  }
 ],
 "metadata": {
  "colab": {
   "name": "solution.ipynb",
   "provenance": [],
   "toc_visible": true
  },
  "kernelspec": {
   "display_name": "Python 3",
   "language": "python",
   "name": "python3"
  },
  "language_info": {
   "codemirror_mode": {
    "name": "ipython",
    "version": 3
   },
   "file_extension": ".py",
   "mimetype": "text/x-python",
   "name": "python",
   "nbconvert_exporter": "python",
   "pygments_lexer": "ipython3",
   "version": "3.6.7"
  }
 },
 "nbformat": 4,
 "nbformat_minor": 1
}
