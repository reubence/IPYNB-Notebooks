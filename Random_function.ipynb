{
  "nbformat": 4,
  "nbformat_minor": 0,
  "metadata": {
    "colab": {
      "name": "Random-function.ipynb",
      "provenance": [],
      "authorship_tag": "ABX9TyNLuBMeYy+vPgpxgwO7zeMT",
      "include_colab_link": true
    },
    "kernelspec": {
      "name": "python3",
      "display_name": "Python 3"
    }
  },
  "cells": [
    {
      "cell_type": "markdown",
      "metadata": {
        "id": "view-in-github",
        "colab_type": "text"
      },
      "source": [
        "<a href=\"https://colab.research.google.com/github/reubence/IPYNB-Notebooks/blob/master/Random_function.ipynb\" target=\"_parent\"><img src=\"https://colab.research.google.com/assets/colab-badge.svg\" alt=\"Open In Colab\"/></a>"
      ]
    },
    {
      "cell_type": "markdown",
      "metadata": {
        "id": "qzf7F5oFUpr0",
        "colab_type": "text"
      },
      "source": [
        "1. Write a Python function that accepts a list ( random numbers ) as an input argument and returns a list with two elements. In the return list,\n",
        "\n",
        "a. First element is the total number of elements that are divisible by 3 in the input list\n",
        "b. The second element is the total number of elements that are squared numbers ( example: 4,9,16, etc )"
      ]
    },
    {
      "cell_type": "code",
      "metadata": {
        "id": "b3a8W5OVUnzD",
        "colab_type": "code",
        "colab": {
          "base_uri": "https://localhost:8080/",
          "height": 150
        },
        "outputId": "6d90d9ab-8dab-4a55-a71b-1e0b935e0f1e"
      },
      "source": [
        "import math\n",
        "lst = [] \n",
        "bb = [] \n",
        "# number of elemetns as input \n",
        "n = int(input(\"Enter number of elements : \")) \n",
        "  \n",
        "# iterating till the range \n",
        "for i in range(0, n): \n",
        "    ele = int(input()) \n",
        "    lst.append(ele) # adding the elemen\n",
        "\n",
        "for a in lst:\n",
        "  ab = [a for a in lst if a%3==0]\n",
        "  root = math.sqrt(a)\n",
        "  if int(root + 0.5) ** 2 == a:\n",
        "    bb.append(a)\n",
        "\n",
        "final = [ab,bb]\n",
        " \n",
        "print(ab)\n",
        "print(bb)\n",
        "print(final)"
      ],
      "execution_count": 13,
      "outputs": [
        {
          "output_type": "stream",
          "text": [
            "Enter number of elements : 4\n",
            "4\n",
            "3\n",
            "9\n",
            "16\n",
            "[3, 9]\n",
            "[4, 9, 16]\n",
            "[[3, 9], [4, 9, 16]]\n"
          ],
          "name": "stdout"
        }
      ]
    },
    {
      "cell_type": "code",
      "metadata": {
        "id": "bVC6-UWwVGlU",
        "colab_type": "code",
        "colab": {}
      },
      "source": [
        ""
      ],
      "execution_count": 0,
      "outputs": []
    }
  ]
}